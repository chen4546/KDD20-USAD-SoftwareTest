{
 "cells": [
  {
   "cell_type": "markdown",
   "metadata": {
    "id": "etniX_KTlJ5U"
   },
   "source": [
    "# USAD"
   ]
  },
  {
   "cell_type": "markdown",
   "metadata": {
    "id": "N3jM0qLU8MgZ"
   },
   "source": [
    "## Environment"
   ]
  },
  {
   "cell_type": "code",
   "execution_count": 1,
   "metadata": {
    "id": "rjheCL2b1Rnw"
   },
   "outputs": [],
   "source": [
    "#!rm -r sample_data"
   ]
  },
  {
   "cell_type": "code",
   "execution_count": 2,
   "metadata": {
    "colab": {
     "base_uri": "https://localhost:8080/",
     "height": 118
    },
    "id": "e3dDxs8LFZdT",
    "outputId": "ebff804d-1c59-4039-d869-f65907b19712"
   },
   "outputs": [],
   "source": [
    "#!git clone https://github.com/manigalati/usad"
   ]
  },
  {
   "cell_type": "code",
   "execution_count": 3,
   "metadata": {
    "colab": {
     "base_uri": "https://localhost:8080/",
     "height": 34
    },
    "id": "te9stFZtFfZu",
    "outputId": "3ca36b3b-dd9a-413c-873f-ab730285ad51"
   },
   "outputs": [],
   "source": [
    "#%cd usad"
   ]
  },
  {
   "cell_type": "code",
   "execution_count": 4,
   "metadata": {
    "id": "6u1DGKsAlLF-"
   },
   "outputs": [],
   "source": [
    "import numpy as np\n",
    "import pandas as pd\n",
    "import matplotlib.pyplot as plt\n",
    "import seaborn as sns\n",
    "import torch\n",
    "import torch.nn as nn\n",
    "\n",
    "from utils import *\n",
    "from usad import *"
   ]
  },
  {
   "cell_type": "code",
   "execution_count": 5,
   "metadata": {
    "colab": {
     "base_uri": "https://localhost:8080/",
     "height": 34
    },
    "id": "4AzWlDBI_djV",
    "outputId": "7a8d0c19-2389-461b-c0be-3427a25dda91"
   },
   "outputs": [
    {
     "name": "stdout",
     "output_type": "stream",
     "text": [
      "GPU 0: NVIDIA GeForce RTX 3060 Laptop GPU (UUID: GPU-dcd269f8-057f-2e80-ec3c-9d9be993ab1f)\n"
     ]
    }
   ],
   "source": [
    "!nvidia-smi -L\n",
    "\n",
    "device = get_default_device()"
   ]
  },
  {
   "cell_type": "markdown",
   "metadata": {
    "id": "1crx5rGP9ONf"
   },
   "source": [
    "## EDA - Data Pre-Processing"
   ]
  },
  {
   "cell_type": "markdown",
   "metadata": {
    "id": "vxofeE469RhT"
   },
   "source": [
    "### Download dataset"
   ]
  },
  {
   "cell_type": "code",
   "execution_count": 6,
   "metadata": {
    "colab": {
     "base_uri": "https://localhost:8080/",
     "height": 84
    },
    "id": "i95DlAZI1G_p",
    "outputId": "5b35771c-356e-4e0b-a997-682d1ea85c6a"
   },
   "outputs": [],
   "source": [
    "##!mkdir input\n",
    "#normal period\n",
    "##!python gdrivedl.py https://drive.google.com/open?id=1rVJ5ry5GG-ZZi5yI4x9lICB8VhErXwCw input/\n",
    "#anomalies\n",
    "##!python gdrivedl.py https://drive.google.com/open?id=1iDYc0OEmidN712fquOBRFjln90SbpaE7 input/"
   ]
  },
  {
   "cell_type": "markdown",
   "metadata": {
    "id": "kfSj4FYL9W8Y"
   },
   "source": [
    "### Normal period"
   ]
  },
  {
   "cell_type": "code",
   "execution_count": 7,
   "metadata": {
    "colab": {
     "base_uri": "https://localhost:8080/",
     "height": 87
    },
    "id": "XeDLxV_r1G9n",
    "outputId": "576538dd-64f2-46fa-8e6f-6c2ffdebad15"
   },
   "outputs": [
    {
     "data": {
      "text/plain": [
       "(5040, 10)"
      ]
     },
     "execution_count": 7,
     "metadata": {},
     "output_type": "execute_result"
    }
   ],
   "source": [
    "#Read data\n",
    "normal = pd.read_csv(\"input/normal0.csv\")#, nrows=1000)\n",
    "normal = normal.drop([\"window_start\" , \"window_end\",\"Normal/Attack\" ] , axis = 1)\n",
    "normal.shape"
   ]
  },
  {
   "cell_type": "code",
   "execution_count": 8,
   "metadata": {
    "id": "fFuLm1GH1G2n"
   },
   "outputs": [],
   "source": [
    "# Transform all columns into float64\n",
    "for i in list(normal): \n",
    "    normal[i]=normal[i].apply(lambda x: str(x).replace(\",\" , \".\"))\n",
    "normal = normal.astype(float)"
   ]
  },
  {
   "cell_type": "markdown",
   "metadata": {
    "id": "zxFNH5kU9hIE"
   },
   "source": [
    "#### Normalization"
   ]
  },
  {
   "cell_type": "code",
   "execution_count": 9,
   "metadata": {
    "id": "Mfxj4Uxn9kv4"
   },
   "outputs": [],
   "source": [
    "from sklearn import preprocessing\n",
    "min_max_scaler = preprocessing.MinMaxScaler()\n",
    "\n",
    "x = normal.values\n",
    "x_scaled = min_max_scaler.fit_transform(x)\n",
    "normal = pd.DataFrame(x_scaled)"
   ]
  },
  {
   "cell_type": "code",
   "execution_count": 10,
   "metadata": {
    "colab": {
     "base_uri": "https://localhost:8080/",
     "height": 126
    },
    "id": "mQ6_U4jn9nlw",
    "outputId": "f1cc1bd6-f1cc-4764-b1cc-2fd989ac4918"
   },
   "outputs": [
    {
     "data": {
      "text/html": [
       "<div>\n",
       "<style scoped>\n",
       "    .dataframe tbody tr th:only-of-type {\n",
       "        vertical-align: middle;\n",
       "    }\n",
       "\n",
       "    .dataframe tbody tr th {\n",
       "        vertical-align: top;\n",
       "    }\n",
       "\n",
       "    .dataframe thead th {\n",
       "        text-align: right;\n",
       "    }\n",
       "</style>\n",
       "<table border=\"1\" class=\"dataframe\">\n",
       "  <thead>\n",
       "    <tr style=\"text-align: right;\">\n",
       "      <th></th>\n",
       "      <th>0</th>\n",
       "      <th>1</th>\n",
       "      <th>2</th>\n",
       "      <th>3</th>\n",
       "      <th>4</th>\n",
       "      <th>5</th>\n",
       "      <th>6</th>\n",
       "      <th>7</th>\n",
       "      <th>8</th>\n",
       "      <th>9</th>\n",
       "    </tr>\n",
       "  </thead>\n",
       "  <tbody>\n",
       "    <tr>\n",
       "      <th>0</th>\n",
       "      <td>0.000000</td>\n",
       "      <td>0.08385</td>\n",
       "      <td>0.004324</td>\n",
       "      <td>0.575483</td>\n",
       "      <td>0.186799</td>\n",
       "      <td>0.0</td>\n",
       "      <td>0.004038</td>\n",
       "      <td>0.641866</td>\n",
       "      <td>0.617048</td>\n",
       "      <td>0.000000</td>\n",
       "    </tr>\n",
       "    <tr>\n",
       "      <th>1</th>\n",
       "      <td>0.002959</td>\n",
       "      <td>0.07913</td>\n",
       "      <td>0.007207</td>\n",
       "      <td>0.564531</td>\n",
       "      <td>0.189357</td>\n",
       "      <td>0.0</td>\n",
       "      <td>0.003546</td>\n",
       "      <td>0.608817</td>\n",
       "      <td>0.582943</td>\n",
       "      <td>0.002969</td>\n",
       "    </tr>\n",
       "  </tbody>\n",
       "</table>\n",
       "</div>"
      ],
      "text/plain": [
       "          0        1         2         3         4    5         6         7  \\\n",
       "0  0.000000  0.08385  0.004324  0.575483  0.186799  0.0  0.004038  0.641866   \n",
       "1  0.002959  0.07913  0.007207  0.564531  0.189357  0.0  0.003546  0.608817   \n",
       "\n",
       "          8         9  \n",
       "0  0.617048  0.000000  \n",
       "1  0.582943  0.002969  "
      ]
     },
     "execution_count": 10,
     "metadata": {},
     "output_type": "execute_result"
    }
   ],
   "source": [
    "normal.head(2)"
   ]
  },
  {
   "cell_type": "markdown",
   "metadata": {
    "id": "_i71RFAi9spa"
   },
   "source": [
    "### Attack"
   ]
  },
  {
   "cell_type": "code",
   "execution_count": 11,
   "metadata": {
    "colab": {
     "base_uri": "https://localhost:8080/",
     "height": 87
    },
    "id": "aN_TFp5x9uTE",
    "outputId": "38d7993d-c9a3-461d-c430-ebde697afbc6"
   },
   "outputs": [
    {
     "data": {
      "text/plain": [
       "(990, 10)"
      ]
     },
     "execution_count": 11,
     "metadata": {},
     "output_type": "execute_result"
    }
   ],
   "source": [
    "#Read data\n",
    "attack = pd.read_csv(\"input/attack0.csv\")#, nrows=1000)\n",
    "labels = [ float(label!= 'Normal' ) for label  in attack[\"Normal/Attack\"].values]\n",
    "attack = attack.drop([\"window_start\" , \"window_end\", \"Normal/Attack\"] , axis = 1)\n",
    "attack.shape"
   ]
  },
  {
   "cell_type": "code",
   "execution_count": 12,
   "metadata": {
    "id": "qLCInT-I9_-D"
   },
   "outputs": [],
   "source": [
    "# Transform all columns into float64\n",
    "for i in list(attack):\n",
    "    attack[i]=attack[i].apply(lambda x: str(x).replace(\",\" , \".\"))\n",
    "attack = attack.astype(float)"
   ]
  },
  {
   "cell_type": "markdown",
   "metadata": {
    "id": "c4cB4v3N-Dhu"
   },
   "source": [
    "#### Normalization"
   ]
  },
  {
   "cell_type": "code",
   "execution_count": 13,
   "metadata": {
    "id": "jZrha9cO-BGK"
   },
   "outputs": [],
   "source": [
    "from sklearn import preprocessing\n",
    "\n",
    "x = attack.values \n",
    "x_scaled = min_max_scaler.transform(x)\n",
    "attack = pd.DataFrame(x_scaled)"
   ]
  },
  {
   "cell_type": "code",
   "execution_count": 14,
   "metadata": {
    "colab": {
     "base_uri": "https://localhost:8080/",
     "height": 126
    },
    "id": "z9SwiPco-BUa",
    "outputId": "f2507282-c0f9-4253-ece7-0a802b68240f"
   },
   "outputs": [
    {
     "data": {
      "text/html": [
       "<div>\n",
       "<style scoped>\n",
       "    .dataframe tbody tr th:only-of-type {\n",
       "        vertical-align: middle;\n",
       "    }\n",
       "\n",
       "    .dataframe tbody tr th {\n",
       "        vertical-align: top;\n",
       "    }\n",
       "\n",
       "    .dataframe thead th {\n",
       "        text-align: right;\n",
       "    }\n",
       "</style>\n",
       "<table border=\"1\" class=\"dataframe\">\n",
       "  <thead>\n",
       "    <tr style=\"text-align: right;\">\n",
       "      <th></th>\n",
       "      <th>0</th>\n",
       "      <th>1</th>\n",
       "      <th>2</th>\n",
       "      <th>3</th>\n",
       "      <th>4</th>\n",
       "      <th>5</th>\n",
       "      <th>6</th>\n",
       "      <th>7</th>\n",
       "      <th>8</th>\n",
       "      <th>9</th>\n",
       "    </tr>\n",
       "  </thead>\n",
       "  <tbody>\n",
       "    <tr>\n",
       "      <th>0</th>\n",
       "      <td>0.010469</td>\n",
       "      <td>0.013552</td>\n",
       "      <td>0.021632</td>\n",
       "      <td>0.461056</td>\n",
       "      <td>0.318448</td>\n",
       "      <td>0.022628</td>\n",
       "      <td>0.459993</td>\n",
       "      <td>0.035223</td>\n",
       "      <td>0.03216</td>\n",
       "      <td>0.261669</td>\n",
       "    </tr>\n",
       "    <tr>\n",
       "      <th>1</th>\n",
       "      <td>0.008061</td>\n",
       "      <td>0.011041</td>\n",
       "      <td>0.018284</td>\n",
       "      <td>0.510743</td>\n",
       "      <td>0.325811</td>\n",
       "      <td>0.056856</td>\n",
       "      <td>0.877573</td>\n",
       "      <td>0.051517</td>\n",
       "      <td>0.05212</td>\n",
       "      <td>0.282530</td>\n",
       "    </tr>\n",
       "  </tbody>\n",
       "</table>\n",
       "</div>"
      ],
      "text/plain": [
       "          0         1         2         3         4         5         6  \\\n",
       "0  0.010469  0.013552  0.021632  0.461056  0.318448  0.022628  0.459993   \n",
       "1  0.008061  0.011041  0.018284  0.510743  0.325811  0.056856  0.877573   \n",
       "\n",
       "          7        8         9  \n",
       "0  0.035223  0.03216  0.261669  \n",
       "1  0.051517  0.05212  0.282530  "
      ]
     },
     "execution_count": 14,
     "metadata": {},
     "output_type": "execute_result"
    }
   ],
   "source": [
    "attack.head(2)"
   ]
  },
  {
   "cell_type": "markdown",
   "metadata": {
    "id": "xXJi503b-j_d"
   },
   "source": [
    "### Windows"
   ]
  },
  {
   "cell_type": "code",
   "execution_count": 15,
   "metadata": {
    "id": "vyplttZa-BRN"
   },
   "outputs": [],
   "source": [
    "window_size=12"
   ]
  },
  {
   "cell_type": "code",
   "execution_count": 16,
   "metadata": {
    "colab": {
     "base_uri": "https://localhost:8080/",
     "height": 34
    },
    "id": "dzGJMp6Y-BN5",
    "outputId": "2949d278-1313-442c-f06b-275a8c6c6578"
   },
   "outputs": [
    {
     "data": {
      "text/plain": [
       "(5028, 12, 10)"
      ]
     },
     "execution_count": 16,
     "metadata": {},
     "output_type": "execute_result"
    }
   ],
   "source": [
    "windows_normal=normal.values[np.arange(window_size)[None, :] + np.arange(normal.shape[0]-window_size)[:, None]]\n",
    "windows_normal.shape"
   ]
  },
  {
   "cell_type": "code",
   "execution_count": 17,
   "metadata": {
    "colab": {
     "base_uri": "https://localhost:8080/",
     "height": 34
    },
    "id": "17LdB3c8-pRH",
    "outputId": "721059d4-5937-4dd3-d73c-e5d255fc273c"
   },
   "outputs": [
    {
     "data": {
      "text/plain": [
       "(978, 12, 10)"
      ]
     },
     "execution_count": 17,
     "metadata": {},
     "output_type": "execute_result"
    }
   ],
   "source": [
    "windows_attack=attack.values[np.arange(window_size)[None, :] + np.arange(attack.shape[0]-window_size)[:, None]]\n",
    "windows_attack.shape"
   ]
  },
  {
   "cell_type": "markdown",
   "metadata": {
    "id": "k70ZFxGs-_7m"
   },
   "source": [
    "## Training"
   ]
  },
  {
   "cell_type": "code",
   "execution_count": 18,
   "metadata": {
    "id": "yi9S0SGnDKNc"
   },
   "outputs": [],
   "source": [
    "import torch.utils.data as data_utils\n",
    "\n",
    "BATCH_SIZE =  100\n",
    "N_EPOCHS = 100\n",
    "hidden_size = 100\n",
    "\n",
    "w_size=windows_normal.shape[1]*windows_normal.shape[2]\n",
    "z_size=windows_normal.shape[1]*hidden_size\n",
    "\n",
    "windows_normal_train = windows_normal[:int(np.floor(.8 *  windows_normal.shape[0]))]\n",
    "windows_normal_val = windows_normal[int(np.floor(.8 *  windows_normal.shape[0])):int(np.floor(windows_normal.shape[0]))]\n",
    "\n",
    "train_loader = torch.utils.data.DataLoader(data_utils.TensorDataset(\n",
    "    torch.from_numpy(windows_normal_train).float().view(([windows_normal_train.shape[0],w_size]))\n",
    ") , batch_size=BATCH_SIZE, shuffle=False, num_workers=0)\n",
    "\n",
    "val_loader = torch.utils.data.DataLoader(data_utils.TensorDataset(\n",
    "    torch.from_numpy(windows_normal_val).float().view(([windows_normal_val.shape[0],w_size]))\n",
    ") , batch_size=BATCH_SIZE, shuffle=False, num_workers=0)\n",
    "\n",
    "test_loader = torch.utils.data.DataLoader(data_utils.TensorDataset(\n",
    "    torch.from_numpy(windows_attack).float().view(([windows_attack.shape[0],w_size]))\n",
    ") , batch_size=BATCH_SIZE, shuffle=False, num_workers=0)\n",
    "\n",
    "model = UsadModel(w_size, z_size)\n",
    "model = to_device(model,device)"
   ]
  },
  {
   "cell_type": "code",
   "execution_count": 19,
   "metadata": {
    "colab": {
     "base_uri": "https://localhost:8080/",
     "height": 1000
    },
    "id": "So9yjDPEDObC",
    "outputId": "629bcd13-37b1-4907-ef0d-46d9e3ad5398",
    "scrolled": true
   },
   "outputs": [
    {
     "name": "stdout",
     "output_type": "stream",
     "text": [
      "Epoch [0], val_loss1: 0.0286, val_loss2: 0.0267\n",
      "Epoch [1], val_loss1: 0.0289, val_loss2: -0.0001\n",
      "Epoch [2], val_loss1: 0.0292, val_loss2: -0.0099\n",
      "Epoch [3], val_loss1: 0.0274, val_loss2: -0.0138\n",
      "Epoch [4], val_loss1: 0.0269, val_loss2: -0.0159\n",
      "Epoch [5], val_loss1: 0.0293, val_loss2: -0.0194\n",
      "Epoch [6], val_loss1: 0.0301, val_loss2: -0.0213\n",
      "Epoch [7], val_loss1: 0.0311, val_loss2: -0.0232\n",
      "Epoch [8], val_loss1: 0.0317, val_loss2: -0.0246\n",
      "Epoch [9], val_loss1: 0.0314, val_loss2: -0.0250\n",
      "Epoch [10], val_loss1: 0.0328, val_loss2: -0.0268\n",
      "Epoch [11], val_loss1: 0.0308, val_loss2: -0.0255\n",
      "Epoch [12], val_loss1: 0.0307, val_loss2: -0.0258\n",
      "Epoch [13], val_loss1: 0.0333, val_loss2: -0.0286\n",
      "Epoch [14], val_loss1: 0.0293, val_loss2: -0.0252\n",
      "Epoch [15], val_loss1: 0.0324, val_loss2: -0.0283\n",
      "Epoch [16], val_loss1: 0.0303, val_loss2: -0.0265\n",
      "Epoch [17], val_loss1: 0.0305, val_loss2: -0.0270\n",
      "Epoch [18], val_loss1: 0.0328, val_loss2: -0.0293\n",
      "Epoch [19], val_loss1: 0.0299, val_loss2: -0.0267\n",
      "Epoch [20], val_loss1: 0.0326, val_loss2: -0.0295\n",
      "Epoch [21], val_loss1: 0.0306, val_loss2: -0.0277\n",
      "Epoch [22], val_loss1: 0.0304, val_loss2: -0.0276\n",
      "Epoch [23], val_loss1: 0.0330, val_loss2: -0.0303\n",
      "Epoch [24], val_loss1: 0.0298, val_loss2: -0.0273\n",
      "Epoch [25], val_loss1: 0.0322, val_loss2: -0.0297\n",
      "Epoch [26], val_loss1: 0.0306, val_loss2: -0.0282\n",
      "Epoch [27], val_loss1: 0.0303, val_loss2: -0.0280\n",
      "Epoch [28], val_loss1: 0.0329, val_loss2: -0.0306\n",
      "Epoch [29], val_loss1: 0.0300, val_loss2: -0.0278\n",
      "Epoch [30], val_loss1: 0.0322, val_loss2: -0.0301\n",
      "Epoch [31], val_loss1: 0.0307, val_loss2: -0.0287\n",
      "Epoch [32], val_loss1: 0.0303, val_loss2: -0.0284\n",
      "Epoch [33], val_loss1: 0.0328, val_loss2: -0.0309\n",
      "Epoch [34], val_loss1: 0.0300, val_loss2: -0.0282\n",
      "Epoch [35], val_loss1: 0.0323, val_loss2: -0.0305\n",
      "Epoch [36], val_loss1: 0.0307, val_loss2: -0.0289\n",
      "Epoch [37], val_loss1: 0.0302, val_loss2: -0.0286\n",
      "Epoch [38], val_loss1: 0.0328, val_loss2: -0.0311\n",
      "Epoch [39], val_loss1: 0.0302, val_loss2: -0.0286\n",
      "Epoch [40], val_loss1: 0.0324, val_loss2: -0.0308\n",
      "Epoch [41], val_loss1: 0.0307, val_loss2: -0.0292\n",
      "Epoch [42], val_loss1: 0.0305, val_loss2: -0.0290\n",
      "Epoch [43], val_loss1: 0.0326, val_loss2: -0.0311\n",
      "Epoch [44], val_loss1: 0.0303, val_loss2: -0.0289\n",
      "Epoch [45], val_loss1: 0.0325, val_loss2: -0.0311\n",
      "Epoch [46], val_loss1: 0.0308, val_loss2: -0.0294\n",
      "Epoch [47], val_loss1: 0.0306, val_loss2: -0.0292\n",
      "Epoch [48], val_loss1: 0.0324, val_loss2: -0.0311\n",
      "Epoch [49], val_loss1: 0.0305, val_loss2: -0.0292\n",
      "Epoch [50], val_loss1: 0.0325, val_loss2: -0.0312\n",
      "Epoch [51], val_loss1: 0.0310, val_loss2: -0.0298\n",
      "Epoch [52], val_loss1: 0.0309, val_loss2: -0.0297\n",
      "Epoch [53], val_loss1: 0.0325, val_loss2: -0.0313\n",
      "Epoch [54], val_loss1: 0.0307, val_loss2: -0.0296\n",
      "Epoch [55], val_loss1: 0.0324, val_loss2: -0.0312\n",
      "Epoch [56], val_loss1: 0.0313, val_loss2: -0.0302\n",
      "Epoch [57], val_loss1: 0.0311, val_loss2: -0.0300\n",
      "Epoch [58], val_loss1: 0.0325, val_loss2: -0.0314\n",
      "Epoch [59], val_loss1: 0.0310, val_loss2: -0.0299\n",
      "Epoch [60], val_loss1: 0.0322, val_loss2: -0.0312\n",
      "Epoch [61], val_loss1: 0.0316, val_loss2: -0.0306\n",
      "Epoch [62], val_loss1: 0.0312, val_loss2: -0.0302\n",
      "Epoch [63], val_loss1: 0.0326, val_loss2: -0.0315\n",
      "Epoch [64], val_loss1: 0.0313, val_loss2: -0.0303\n",
      "Epoch [65], val_loss1: 0.0320, val_loss2: -0.0310\n",
      "Epoch [66], val_loss1: 0.0320, val_loss2: -0.0310\n",
      "Epoch [67], val_loss1: 0.0314, val_loss2: -0.0305\n",
      "Epoch [68], val_loss1: 0.0325, val_loss2: -0.0315\n",
      "Epoch [69], val_loss1: 0.0316, val_loss2: -0.0307\n",
      "Epoch [70], val_loss1: 0.0319, val_loss2: -0.0310\n",
      "Epoch [71], val_loss1: 0.0322, val_loss2: -0.0313\n",
      "Epoch [72], val_loss1: 0.0316, val_loss2: -0.0308\n",
      "Epoch [73], val_loss1: 0.0323, val_loss2: -0.0314\n",
      "Epoch [74], val_loss1: 0.0319, val_loss2: -0.0311\n",
      "Epoch [75], val_loss1: 0.0319, val_loss2: -0.0311\n",
      "Epoch [76], val_loss1: 0.0323, val_loss2: -0.0315\n",
      "Epoch [77], val_loss1: 0.0318, val_loss2: -0.0310\n",
      "Epoch [78], val_loss1: 0.0322, val_loss2: -0.0314\n",
      "Epoch [79], val_loss1: 0.0321, val_loss2: -0.0313\n",
      "Epoch [80], val_loss1: 0.0320, val_loss2: -0.0312\n",
      "Epoch [81], val_loss1: 0.0324, val_loss2: -0.0316\n",
      "Epoch [82], val_loss1: 0.0320, val_loss2: -0.0313\n",
      "Epoch [83], val_loss1: 0.0321, val_loss2: -0.0314\n",
      "Epoch [84], val_loss1: 0.0323, val_loss2: -0.0315\n",
      "Epoch [85], val_loss1: 0.0320, val_loss2: -0.0313\n",
      "Epoch [86], val_loss1: 0.0324, val_loss2: -0.0317\n",
      "Epoch [87], val_loss1: 0.0320, val_loss2: -0.0313\n",
      "Epoch [88], val_loss1: 0.0321, val_loss2: -0.0314\n",
      "Epoch [89], val_loss1: 0.0325, val_loss2: -0.0318\n",
      "Epoch [90], val_loss1: 0.0322, val_loss2: -0.0315\n",
      "Epoch [91], val_loss1: 0.0318, val_loss2: -0.0312\n",
      "Epoch [92], val_loss1: 0.0325, val_loss2: -0.0319\n",
      "Epoch [93], val_loss1: 0.0314, val_loss2: -0.0308\n",
      "Epoch [94], val_loss1: 0.0315, val_loss2: -0.0309\n",
      "Epoch [95], val_loss1: 0.0321, val_loss2: -0.0316\n",
      "Epoch [96], val_loss1: 0.0326, val_loss2: -0.0321\n",
      "Epoch [97], val_loss1: 0.0289, val_loss2: -0.0285\n",
      "Epoch [98], val_loss1: 0.0301, val_loss2: -0.0295\n",
      "Epoch [99], val_loss1: 0.0325, val_loss2: -0.0318\n"
     ]
    }
   ],
   "source": [
    "history = training(N_EPOCHS,model,train_loader,val_loader)"
   ]
  },
  {
   "cell_type": "code",
   "execution_count": 20,
   "metadata": {
    "colab": {
     "base_uri": "https://localhost:8080/",
     "height": 295
    },
    "id": "fYwlN0JKVVtN",
    "outputId": "c742ff8b-3b4a-41f5-dd09-effee1be928a"
   },
   "outputs": [
    {
     "data": {
      "image/png": "[encoded data removed]",
      "text/plain": [
       "<Figure size 640x480 with 1 Axes>"
      ]
     },
     "metadata": {},
     "output_type": "display_data"
    }
   ],
   "source": [
    "plot_history(history)"
   ]
  },
  {
   "cell_type": "code",
   "execution_count": 21,
   "metadata": {
    "id": "ieObNqKYsOzh"
   },
   "outputs": [],
   "source": [
    "torch.save({\n",
    "            'encoder': model.encoder.state_dict(),\n",
    "            'decoder1': model.decoder1.state_dict(),\n",
    "            'decoder2': model.decoder2.state_dict()\n",
    "            }, \"model.pth\")"
   ]
  },
  {
   "cell_type": "markdown",
   "metadata": {
    "id": "ymhjbmvR_DgJ"
   },
   "source": [
    "## Testing"
   ]
  },
  {
   "cell_type": "code",
   "execution_count": 22,
   "metadata": {
    "colab": {
     "base_uri": "https://localhost:8080/",
     "height": 34
    },
    "id": "b7rbm9wdXKeF",
    "outputId": "076309c7-22be-41f6-f916-5f11cb679672"
   },
   "outputs": [
    {
     "data": {
      "text/plain": [
       "<All keys matched successfully>"
      ]
     },
     "execution_count": 22,
     "metadata": {},
     "output_type": "execute_result"
    }
   ],
   "source": [
    "checkpoint = torch.load(\"model.pth\")\n",
    "\n",
    "model.encoder.load_state_dict(checkpoint['encoder'])\n",
    "model.decoder1.load_state_dict(checkpoint['decoder1'])\n",
    "model.decoder2.load_state_dict(checkpoint['decoder2'])"
   ]
  },
  {
   "cell_type": "code",
   "execution_count": 23,
   "metadata": {
    "id": "Ry1QTp6V2ny4"
   },
   "outputs": [],
   "source": [
    "results=testing(model,test_loader)"
   ]
  },
  {
   "cell_type": "code",
   "execution_count": 24,
   "metadata": {},
   "outputs": [],
   "source": [
    "windows_labels=[]\n",
    "for i in range(len(labels)-window_size):\n",
    "    windows_labels.append(list(np.int_(labels[i:i+window_size])))"
   ]
  },
  {
   "cell_type": "code",
   "execution_count": 25,
   "metadata": {},
   "outputs": [],
   "source": [
    "y_test = [1.0 if (np.sum(window) > 0) else 0 for window in windows_labels ]"
   ]
  },
  {
   "cell_type": "code",
   "execution_count": 26,
   "metadata": {
    "id": "FSWwxheNvxR7"
   },
   "outputs": [],
   "source": [
    "y_pred=np.concatenate([torch.stack(results[:-1]).flatten().detach().cpu().numpy(),\n",
    "                              results[-1].flatten().detach().cpu().numpy()])"
   ]
  },
  {
   "cell_type": "code",
   "execution_count": 27,
   "metadata": {
    "colab": {
     "base_uri": "https://localhost:8080/",
     "height": 279
    },
    "id": "bROUyLM93cG3",
    "outputId": "755359d9-d0fb-4deb-b313-d3c2a2465a26"
   },
   "outputs": [
    {
     "data": {
      "image/png": "[encoded data removed]",
      "text/plain": [
       "<Figure size 640x480 with 1 Axes>"
      ]
     },
     "metadata": {},
     "output_type": "display_data"
    }
   ],
   "source": [
    "#print(f\"NaN values in y_pred: {np.isnan(y_pred).sum()}\")\n",
    "y_pred = np.nan_to_num(y_pred, nan=np.nanmean(y_pred))  # 用均值替换NaN\n",
    "\n",
    "threshold=ROC(y_test,y_pred)"
   ]
  },
  {
   "cell_type": "code",
   "execution_count": null,
   "metadata": {},
   "outputs": [],
   "source": []
  }
 ],
 "metadata": {
  "accelerator": "GPU",
  "colab": {
   "name": "USAD_test.ipynb",
   "provenance": [],
   "toc_visible": true
  },
  "kernelspec": {
   "display_name": "Python 3 (ipykernel)",
   "language": "python",
   "name": "python3"
  },
  "language_info": {
   "codemirror_mode": {
    "name": "ipython",
    "version": 3
   },
   "file_extension": ".py",
   "mimetype": "text/x-python",
   "name": "python",
   "nbconvert_exporter": "python",
   "pygments_lexer": "ipython3",
   "version": "3.12.9"
  }
 },
 "nbformat": 4,
 "nbformat_minor": 4
}
